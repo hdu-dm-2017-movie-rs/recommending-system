{
 "cells": [
  {
   "cell_type": "code",
   "execution_count": 119,
   "metadata": {},
   "outputs": [
    {
     "name": "stdout",
     "output_type": "stream",
     "text": [
      "('Shape of the ratings data frame:', (26024289, 4))\n",
      "('Shape of the tags data frame:', (753170, 4))\n",
      "('Shape of the movies data frame:', (45843, 3))\n"
     ]
    }
   ],
   "source": [
    "import numpy as np\n",
    "import pandas as pd\n",
    "import scipy\n",
    "import matplotlib.pyplot as plt\n",
    "from keras.layers.embeddings import Embedding\n",
    "from keras.layers.recurrent import GRU, LSTM\n",
    "from keras.layers import Dropout\n",
    "from keras.models import Sequential\n",
    "from keras.layers import Dense\n",
    "from keras.preprocessing.text import Tokenizer\n",
    "from keras.preprocessing.sequence import pad_sequences\n",
    "from keras.models import Model\n",
    "from keras.utils.np_utils import to_categorical\n",
    "from keras.optimizers import SGD\n",
    "from keras.callbacks import EarlyStopping\n",
    "from keras_tqdm import TQDMNotebookCallback\n",
    "\n",
    "import re\n",
    "import datetime\n",
    "\n",
    "# 加载数据集\n",
    "ratings = pd.read_csv('ml-latest/ratings.csv')\n",
    "print ('Shape of the ratings data frame:', ratings.shape)\n",
    "\n",
    "tags = pd.read_csv('ml-latest/tags.csv')\n",
    "print ('Shape of the tags data frame:', tags.shape)\n",
    "\n",
    "movies = pd.read_csv('ml-latest/movies.csv')\n",
    "print ('Shape of the movies data frame:', movies.shape)\n",
    "\n",
    "tags = tags.sample(frac=0.2)\n",
    "ratings = ratings.sample(frac=0.2)"
   ]
  },
  {
   "cell_type": "code",
   "execution_count": 120,
   "metadata": {},
   "outputs": [
    {
     "name": "stdout",
     "output_type": "stream",
     "text": [
      "('Shape of the joint data frame:', (26398, 5))\n",
      "   userId  movieId  rating                      tag   timestamp\n",
      "0  244193     1252     5.0                  cynical  1440325509\n",
      "1   30344     7802     3.5                    gangs  1474401821\n",
      "2   84574   117368     3.0         children cartoon  1422086833\n",
      "3   84353    59615     3.5  worse than predecessors  1289238229\n",
      "4   84353    59615     3.5            indiana jones  1289238199\n"
     ]
    }
   ],
   "source": [
    "#除去时间，结合ratings和tags的数据\n",
    "ratings = ratings.drop(['timestamp'],axis=1)\n",
    "#ratings.head(n=5)\n",
    "#Display summary statistics about data\n",
    "#ratings.describe()\n",
    "#Print sample tags data\n",
    "#tags.head(n=5)\n",
    "#Print sample movies data\n",
    "#movies.head(n=5)\n",
    "data = pd.merge(ratings, tags, how='inner')\n",
    "print ('Shape of the joint data frame:', data.shape)\n",
    "print (data.head(n=5))"
   ]
  },
  {
   "cell_type": "markdown",
   "metadata": {},
   "source": [
    "## 清理 检查数据"
   ]
  },
  {
   "cell_type": "code",
   "execution_count": 121,
   "metadata": {},
   "outputs": [
    {
     "name": "stdout",
     "output_type": "stream",
     "text": [
      "('userId', 4117)\n",
      "('movieId', 5534)\n",
      "('rating', 10)\n",
      "('tag', 7469)\n",
      "('timestamp', 25956)\n"
     ]
    }
   ],
   "source": [
    "#提取每个标签的数据个数\n",
    "for column in data.columns:\n",
    "    print (column, data[column].nunique())"
   ]
  },
  {
   "cell_type": "code",
   "execution_count": 122,
   "metadata": {},
   "outputs": [
    {
     "data": {
      "text/plain": [
       "0   2015-08-23 18:25:09\n",
       "1   2016-09-21 04:03:41\n",
       "2   2015-01-24 16:07:13\n",
       "3   2010-11-09 01:43:49\n",
       "4   2010-11-09 01:43:19\n",
       "5   2016-09-27 15:28:37\n",
       "6   2016-09-27 15:29:00\n",
       "7   2006-02-19 23:32:14\n",
       "8   2013-05-25 05:43:39\n",
       "9   2016-04-14 20:51:09\n",
       "Name: timestamp, dtype: datetime64[ns]"
      ]
     },
     "execution_count": 122,
     "metadata": {},
     "output_type": "execute_result"
    }
   ],
   "source": [
    "#从tag中删除任何特殊字符，以减少惟一标记的数量，并提高性能\n",
    "data['rating'] = data['rating'].apply(lambda x: 1 if x > 4 else 0)\n",
    "data['tag'] = data['tag'].apply(lambda x: str(x))\n",
    "data['tag'] = data['tag'].map(lambda x: re.sub(r'([^\\s\\w]|_)+', '', x))\n",
    "data['tag'] = data['tag'].str.lower()\n",
    "#将时间转换为datetime格式\n",
    "data['timestamp'] = data['timestamp'].apply(lambda x: datetime.datetime.fromtimestamp(x).strftime('%Y-%m-%d %H:%M:%S'))\n",
    "data['timestamp'].astype('datetime64[ns]')[0:10]"
   ]
  },
  {
   "cell_type": "code",
   "execution_count": 123,
   "metadata": {},
   "outputs": [
    {
     "name": "stdout",
     "output_type": "stream",
     "text": [
      "Found 6682 unique tokens.\n"
     ]
    }
   ],
   "source": [
    "tokenizer = Tokenizer()\n",
    "tokenizer.fit_on_texts(data['tag'])\n",
    "sequences = tokenizer.texts_to_sequences(data['tag'])\n",
    "\n",
    "word_index = tokenizer.word_index\n",
    "print('Found %s unique tokens.' % len(word_index))\n",
    "\n",
    "pseq = pad_sequences(sequences)\n",
    "pdseq = pd.DataFrame(pseq)"
   ]
  },
  {
   "cell_type": "code",
   "execution_count": 124,
   "metadata": {},
   "outputs": [
    {
     "name": "stdout",
     "output_type": "stream",
     "text": [
      "('number of words in plot summary: ', 6508)\n"
     ]
    }
   ],
   "source": [
    "from sklearn.feature_extraction.text import CountVectorizer\n",
    "vectorizer = CountVectorizer(stop_words='english',decode_error='ignore', analyzer='word')\n",
    "corpus = data['tag'].values\n",
    "wordvec = vectorizer.fit_transform(corpus.ravel())\n",
    "wordvec = wordvec.toarray()\n",
    "\n",
    "words = vectorizer.get_feature_names()\n",
    "print(\"number of words in plot summary: \", len(words))\n",
    "pdwordvec = pd.DataFrame(wordvec,columns=words)"
   ]
  },
  {
   "cell_type": "markdown",
   "metadata": {},
   "source": [
    "## 准备深度学习的数据\n",
    "将斯坦福的glove.6B词汇嵌入作为预先训练的模型"
   ]
  },
  {
   "cell_type": "code",
   "execution_count": 125,
   "metadata": {},
   "outputs": [
    {
     "name": "stdout",
     "output_type": "stream",
     "text": [
      "Found 400000 word vectors.\n"
     ]
    }
   ],
   "source": [
    "embeddings_index = {}\n",
    "f = open('glove.6B/glove.6B.100d.txt')\n",
    "for line in f:\n",
    "    values = line.split()\n",
    "    word = values[0]\n",
    "    coefs = np.asarray(values[1:], dtype='float32')\n",
    "    embeddings_index[word] = coefs\n",
    "f.close()\n",
    "\n",
    "print('Found %s word vectors.' % len(embeddings_index))\n",
    "\n",
    "embedding_matrix = np.zeros((len(words), 100))\n",
    "for i in range(len(words)):\n",
    "    embedding_vector = embeddings_index.get(words[i])\n",
    "    if embedding_vector is not None:\n",
    "        # words not found in embedding index will be all-zeros.\n",
    "        embedding_matrix[i] = embedding_vector\n",
    "        \n",
    "pdembedding = pd.DataFrame(embedding_matrix.T,columns=words)"
   ]
  },
  {
   "cell_type": "code",
   "execution_count": 126,
   "metadata": {},
   "outputs": [],
   "source": [
    "# LSTM的深度学习只使用单词序列\n",
    "dpdata = pd.concat([data, pdseq], axis=1)\n",
    "dpdata = dpdata.drop(['tag'], axis=1)\n",
    "dpdata = dpdata.drop(['userId'], axis=1)\n",
    "dpdata = dpdata.drop(['movieId'], axis=1)"
   ]
  },
  {
   "cell_type": "code",
   "execution_count": 85,
   "metadata": {},
   "outputs": [
    {
     "name": "stdout",
     "output_type": "stream",
     "text": [
      "Number of rows in training data set: 22128\n",
      "Number of rows in test data set: 4105\n"
     ]
    }
   ],
   "source": [
    "#构建训练和数据集\n",
    "train = dpdata[(dpdata['timestamp'] < '2016-08-01') ]\n",
    "test = dpdata[(dpdata['timestamp'] >= '2016-08-01') ]\n",
    "\n",
    "print \"Number of rows in training data set:\",(len(train))\n",
    "print \"Number of rows in test data set:\", (len(test))"
   ]
  },
  {
   "cell_type": "code",
   "execution_count": 86,
   "metadata": {},
   "outputs": [],
   "source": [
    "#删除时间戳\n",
    "train = train.drop(['timestamp'], axis=1)\n",
    "test = test.drop(['timestamp'], axis=1)\n",
    "y_train = train['rating']\n",
    "y_test = test['rating']\n",
    "x_train = train.drop(['rating'], axis=1)\n",
    "x_test = test.drop(['rating'], axis=1)"
   ]
  },
  {
   "cell_type": "code",
   "execution_count": 131,
   "metadata": {},
   "outputs": [
    {
     "name": "stdout",
     "output_type": "stream",
     "text": [
      "_________________________________________________________________\n",
      "Layer (type)                 Output Shape              Param #   \n",
      "=================================================================\n",
      "embedding_12 (Embedding)     (None, None, 100)         668300    \n",
      "_________________________________________________________________\n",
      "lstm_11 (LSTM)               (None, 10)                4440      \n",
      "_________________________________________________________________\n",
      "dense_11 (Dense)             (None, 2)                 22        \n",
      "=================================================================\n",
      "Total params: 672,762\n",
      "Trainable params: 4,462\n",
      "Non-trainable params: 668,300\n",
      "_________________________________________________________________\n"
     ]
    }
   ],
   "source": [
    "y_test_matrix = to_categorical(y_test)\n",
    "y_train_matrix = to_categorical(y_train)\n",
    "x_train_array = np.array(x_train)\n",
    "x_test_array = np.array(x_test)\n",
    "\n",
    "epochs = 20\n",
    "lrate = 0.001\n",
    "sgd = SGD(lr=lrate)\n",
    "early_stopping = EarlyStopping(monitor='acc',patience=2)\n",
    "\n",
    "model = Sequential()\n",
    "model.add(Embedding(len(word_index)+1, 100, mask_zero=True, trainable=False))\n",
    "model.add(LSTM(10, return_sequences=False))\n",
    "model.add(Dense(2, activation='softmax'))\n",
    "\n",
    "model.compile(loss='categorical_crossentropy',\n",
    "              optimizer='rmsprop',\n",
    "              metrics=['accuracy'])\n",
    "model.summary()"
   ]
  },
  {
   "cell_type": "code",
   "execution_count": 132,
   "metadata": {},
   "outputs": [
    {
     "name": "stdout",
     "output_type": "stream",
     "text": [
      "Train on 22128 samples, validate on 4105 samples\n"
     ]
    },
    {
     "data": {
      "application/vnd.jupyter.widget-view+json": {
       "model_id": "a2010a6ed5d040ec8350541265fb1887",
       "version_major": 2,
       "version_minor": 0
      },
      "text/html": [
       "<p>Failed to display Jupyter Widget of type <code>HBox</code>.</p>\n",
       "<p>\n",
       "  If you're reading this message in Jupyter Notebook or JupyterLab, it may mean\n",
       "  that the widgets JavaScript is still loading. If this message persists, it\n",
       "  likely means that the widgets JavaScript library is either not installed or\n",
       "  not enabled. See the <a href=\"https://ipywidgets.readthedocs.io/en/stable/user_install.html\">Jupyter\n",
       "  Widgets Documentation</a> for setup instructions.\n",
       "</p>\n",
       "<p>\n",
       "  If you're reading this message in another notebook frontend (for example, a static\n",
       "  rendering on GitHub or <a href=\"https://nbviewer.jupyter.org/\">NBViewer</a>),\n",
       "  it may mean that your frontend doesn't currently support widgets.\n",
       "</p>\n"
      ],
      "text/plain": [
       "HBox(children=(IntProgress(value=0, description=u'Training', max=20), HTML(value=u'')))"
      ]
     },
     "metadata": {},
     "output_type": "display_data"
    },
    {
     "data": {
      "application/vnd.jupyter.widget-view+json": {
       "model_id": "bdb93ab002424c55ae7df1d3ccd8c2a8",
       "version_major": 2,
       "version_minor": 0
      },
      "text/html": [
       "<p>Failed to display Jupyter Widget of type <code>HBox</code>.</p>\n",
       "<p>\n",
       "  If you're reading this message in Jupyter Notebook or JupyterLab, it may mean\n",
       "  that the widgets JavaScript is still loading. If this message persists, it\n",
       "  likely means that the widgets JavaScript library is either not installed or\n",
       "  not enabled. See the <a href=\"https://ipywidgets.readthedocs.io/en/stable/user_install.html\">Jupyter\n",
       "  Widgets Documentation</a> for setup instructions.\n",
       "</p>\n",
       "<p>\n",
       "  If you're reading this message in another notebook frontend (for example, a static\n",
       "  rendering on GitHub or <a href=\"https://nbviewer.jupyter.org/\">NBViewer</a>),\n",
       "  it may mean that your frontend doesn't currently support widgets.\n",
       "</p>\n"
      ],
      "text/plain": [
       "HBox(children=(IntProgress(value=0, description=u'Epoch 0', max=22128), HTML(value=u'')))"
      ]
     },
     "metadata": {},
     "output_type": "display_data"
    },
    {
     "name": "stdout",
     "output_type": "stream",
     "text": [
      "Epoch 1/20\n",
      "22128/22128 [==============================] - 7s 323us/step - loss: 0.6685 - acc: 0.6210 - val_loss: 0.6704 - val_acc: 0.6068\n"
     ]
    },
    {
     "data": {
      "application/vnd.jupyter.widget-view+json": {
       "model_id": "519181c0a38b4fb7a5e2c2c232db3677",
       "version_major": 2,
       "version_minor": 0
      },
      "text/html": [
       "<p>Failed to display Jupyter Widget of type <code>HBox</code>.</p>\n",
       "<p>\n",
       "  If you're reading this message in Jupyter Notebook or JupyterLab, it may mean\n",
       "  that the widgets JavaScript is still loading. If this message persists, it\n",
       "  likely means that the widgets JavaScript library is either not installed or\n",
       "  not enabled. See the <a href=\"https://ipywidgets.readthedocs.io/en/stable/user_install.html\">Jupyter\n",
       "  Widgets Documentation</a> for setup instructions.\n",
       "</p>\n",
       "<p>\n",
       "  If you're reading this message in another notebook frontend (for example, a static\n",
       "  rendering on GitHub or <a href=\"https://nbviewer.jupyter.org/\">NBViewer</a>),\n",
       "  it may mean that your frontend doesn't currently support widgets.\n",
       "</p>\n"
      ],
      "text/plain": [
       "HBox(children=(IntProgress(value=0, description=u'Epoch 1', max=22128), HTML(value=u'')))"
      ]
     },
     "metadata": {},
     "output_type": "display_data"
    },
    {
     "name": "stdout",
     "output_type": "stream",
     "text": [
      "Epoch 2/20\n",
      "22128/22128 [==============================] - 6s 270us/step - loss: 0.6620 - acc: 0.6224 - val_loss: 0.6695 - val_acc: 0.6068\n"
     ]
    },
    {
     "data": {
      "application/vnd.jupyter.widget-view+json": {
       "model_id": "3dde6f5c9f4d4b4796a8031c3bf01572",
       "version_major": 2,
       "version_minor": 0
      },
      "text/html": [
       "<p>Failed to display Jupyter Widget of type <code>HBox</code>.</p>\n",
       "<p>\n",
       "  If you're reading this message in Jupyter Notebook or JupyterLab, it may mean\n",
       "  that the widgets JavaScript is still loading. If this message persists, it\n",
       "  likely means that the widgets JavaScript library is either not installed or\n",
       "  not enabled. See the <a href=\"https://ipywidgets.readthedocs.io/en/stable/user_install.html\">Jupyter\n",
       "  Widgets Documentation</a> for setup instructions.\n",
       "</p>\n",
       "<p>\n",
       "  If you're reading this message in another notebook frontend (for example, a static\n",
       "  rendering on GitHub or <a href=\"https://nbviewer.jupyter.org/\">NBViewer</a>),\n",
       "  it may mean that your frontend doesn't currently support widgets.\n",
       "</p>\n"
      ],
      "text/plain": [
       "HBox(children=(IntProgress(value=0, description=u'Epoch 2', max=22128), HTML(value=u'')))"
      ]
     },
     "metadata": {},
     "output_type": "display_data"
    },
    {
     "name": "stdout",
     "output_type": "stream",
     "text": [
      "Epoch 3/20\n",
      "22128/22128 [==============================] - 6s 264us/step - loss: 0.6608 - acc: 0.6224 - val_loss: 0.6680 - val_acc: 0.6068\n"
     ]
    },
    {
     "data": {
      "application/vnd.jupyter.widget-view+json": {
       "model_id": "2bf27cb2dc4a4d7abf7e757cddafb96f",
       "version_major": 2,
       "version_minor": 0
      },
      "text/html": [
       "<p>Failed to display Jupyter Widget of type <code>HBox</code>.</p>\n",
       "<p>\n",
       "  If you're reading this message in Jupyter Notebook or JupyterLab, it may mean\n",
       "  that the widgets JavaScript is still loading. If this message persists, it\n",
       "  likely means that the widgets JavaScript library is either not installed or\n",
       "  not enabled. See the <a href=\"https://ipywidgets.readthedocs.io/en/stable/user_install.html\">Jupyter\n",
       "  Widgets Documentation</a> for setup instructions.\n",
       "</p>\n",
       "<p>\n",
       "  If you're reading this message in another notebook frontend (for example, a static\n",
       "  rendering on GitHub or <a href=\"https://nbviewer.jupyter.org/\">NBViewer</a>),\n",
       "  it may mean that your frontend doesn't currently support widgets.\n",
       "</p>\n"
      ],
      "text/plain": [
       "HBox(children=(IntProgress(value=0, description=u'Epoch 3', max=22128), HTML(value=u'')))"
      ]
     },
     "metadata": {},
     "output_type": "display_data"
    },
    {
     "name": "stdout",
     "output_type": "stream",
     "text": [
      "Epoch 4/20\n",
      "22128/22128 [==============================] - 6s 286us/step - loss: 0.6596 - acc: 0.6224 - val_loss: 0.6670 - val_acc: 0.6068\n"
     ]
    },
    {
     "data": {
      "application/vnd.jupyter.widget-view+json": {
       "model_id": "201b5051c83f457d8694ea8a87bcf6ab",
       "version_major": 2,
       "version_minor": 0
      },
      "text/html": [
       "<p>Failed to display Jupyter Widget of type <code>HBox</code>.</p>\n",
       "<p>\n",
       "  If you're reading this message in Jupyter Notebook or JupyterLab, it may mean\n",
       "  that the widgets JavaScript is still loading. If this message persists, it\n",
       "  likely means that the widgets JavaScript library is either not installed or\n",
       "  not enabled. See the <a href=\"https://ipywidgets.readthedocs.io/en/stable/user_install.html\">Jupyter\n",
       "  Widgets Documentation</a> for setup instructions.\n",
       "</p>\n",
       "<p>\n",
       "  If you're reading this message in another notebook frontend (for example, a static\n",
       "  rendering on GitHub or <a href=\"https://nbviewer.jupyter.org/\">NBViewer</a>),\n",
       "  it may mean that your frontend doesn't currently support widgets.\n",
       "</p>\n"
      ],
      "text/plain": [
       "HBox(children=(IntProgress(value=0, description=u'Epoch 4', max=22128), HTML(value=u'')))"
      ]
     },
     "metadata": {},
     "output_type": "display_data"
    },
    {
     "name": "stdout",
     "output_type": "stream",
     "text": [
      "Epoch 5/20\n",
      "22128/22128 [==============================] - 7s 297us/step - loss: 0.6584 - acc: 0.6224 - val_loss: 0.6658 - val_acc: 0.6068\n",
      "\n",
      "Accuracy: 60.68%\n"
     ]
    }
   ],
   "source": [
    "# Fit the model \n",
    "model.fit(x_train_array, y_train_matrix, validation_data=(x_test_array, y_test_matrix), epochs=epochs, batch_size=100, class_weight='balanced', callbacks=[early_stopping, TQDMNotebookCallback()])\n",
    "# Final evaluation of the model\n",
    "scores = model.evaluate(x_test_array, y_test_matrix, verbose=0)\n",
    "print(\"Accuracy: %.2f%%\" % (scores[1]*100))"
   ]
  },
  {
   "cell_type": "code",
   "execution_count": null,
   "metadata": {},
   "outputs": [],
   "source": []
  }
 ],
 "metadata": {
  "kernelspec": {
   "display_name": "Python 2",
   "language": "python",
   "name": "python2"
  },
  "language_info": {
   "codemirror_mode": {
    "name": "ipython",
    "version": 2
   },
   "file_extension": ".py",
   "mimetype": "text/x-python",
   "name": "python",
   "nbconvert_exporter": "python",
   "pygments_lexer": "ipython2",
   "version": "2.7.12"
  }
 },
 "nbformat": 4,
 "nbformat_minor": 2
}
