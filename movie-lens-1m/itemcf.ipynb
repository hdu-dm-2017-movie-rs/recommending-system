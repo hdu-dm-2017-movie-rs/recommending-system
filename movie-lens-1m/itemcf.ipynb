{
 "cells": [
  {
   "cell_type": "code",
   "execution_count": 8,
   "metadata": {
    "collapsed": true
   },
   "outputs": [],
   "source": [
    "import numpy as np\n",
    "import pandas as pd\n",
    "import os\n",
    "import random\n",
    "import sys\n",
    "import math\n",
    "from operator import itemgetter\n",
    "ratings = os.path.join('ml-1m', 'ratings.dat')\n",
    "data_ratings = open(ratings,'r')"
   ]
  },
  {
   "cell_type": "code",
   "execution_count": 9,
   "metadata": {},
   "outputs": [
    {
     "name": "stdout",
     "output_type": "stream",
     "text": [
      "train = 899999\n",
      "test = 100210\n"
     ]
    }
   ],
   "source": [
    "train = {}\n",
    "test = {}\n",
    "train_len = 0\n",
    "test_len = 0\n",
    "pivot=0.9\n",
    "for line in data_ratings:\n",
    "    user, movie, rating, _ = line.split('::')\n",
    "    # split the data by pivot\n",
    "    if random.random() < pivot:\n",
    "        train.setdefault(user, {})\n",
    "        train[user][movie] = int(rating)\n",
    "        train_len += 1\n",
    "    else:\n",
    "        test.setdefault(user, {})\n",
    "        test[user][movie] = int(rating)\n",
    "        test_len += 1\n",
    "print ('train = %s' % train_len)\n",
    "print ('test = %s' % test_len)"
   ]
  },
  {
   "cell_type": "code",
   "execution_count": 10,
   "metadata": {},
   "outputs": [
    {
     "name": "stdout",
     "output_type": "stream",
     "text": [
      "3698\n"
     ]
    }
   ],
   "source": [
    "#calculate movie to movie similarity\n",
    "movie_pop = {}\n",
    "movie_count = {}\n",
    "for user, movies in train.items():\n",
    "    for movie in movies:\n",
    "        # count item popularity\n",
    "        if movie not in movie_pop:\n",
    "            movie_pop[movie] = 0\n",
    "        movie_pop[movie] += 1\n",
    "movie_count = len(movie_pop)\n",
    "print movie_count"
   ]
  },
  {
   "cell_type": "code",
   "execution_count": 23,
   "metadata": {},
   "outputs": [],
   "source": [
    "# count co-rated users between items\n",
    "movie_sim = dict()\n",
    "for user, movies in train.items():\n",
    "    for m1 in movies:\n",
    "        for m2 in movies:\n",
    "            if m1 == m2:\n",
    "                continue\n",
    "            movie_sim.setdefault(m1, {})\n",
    "            movie_sim[m1].setdefault(m2, 0)\n",
    "            movie_sim[m1][m2] += 1/math.log(1+len(movies)*1.0)"
   ]
  },
  {
   "cell_type": "code",
   "execution_count": 24,
   "metadata": {},
   "outputs": [
    {
     "name": "stdout",
     "output_type": "stream",
     "text": [
      "calculating movie similarity factor(2000000)\n",
      "calculating movie similarity factor(4000000)\n",
      "calculating movie similarity factor(6000000)\n",
      "calculating movie similarity factor(8000000)\n",
      "calculating movie similarity factor(10000000)\n"
     ]
    }
   ],
   "source": [
    "# calculate similarity matrix v\n",
    "simfactor_count = 0\n",
    "PRINT_STEP = 2000000\n",
    "for m1, related_movies in movie_sim.items():\n",
    "    for m2, count in related_movies.items():\n",
    "        movie_sim[m1][m2] = count / math.sqrt(movie_pop[m1] *movie_pop[m2])\n",
    "        simfactor_count += 1\n",
    "        if simfactor_count % PRINT_STEP == 0:\n",
    "            print('calculating movie similarity factor(%d)' %simfactor_count)\n"
   ]
  },
  {
   "cell_type": "code",
   "execution_count": 25,
   "metadata": {},
   "outputs": [
    {
     "name": "stdout",
     "output_type": "stream",
     "text": [
      "[('260', 8.984853481495234), ('1240', 7.2425535288653675), ('1214', 6.529566986254497), ('589', 5.383357746651333), ('2916', 5.353802134412021), ('1200', 5.1542807430751445), ('1097', 4.767400149354729), ('2028', 4.484679303825415), ('480', 4.163039206652897), ('1580', 4.040902394538427)]\n"
     ]
    }
   ],
   "source": [
    "#recommend\n",
    "K = 20\n",
    "N = 10\n",
    "rank = {}\n",
    "watched_movies = train[user]\n",
    "for movie, rating in watched_movies.items():\n",
    "    for related_movie, similarity_factor in sorted(movie_sim[movie].items(),key=itemgetter(1), reverse=True)[:K]:\n",
    "        if related_movie in watched_movies:\n",
    "            continue\n",
    "        rank.setdefault(related_movie, 0)\n",
    "        rank[related_movie] += similarity_factor * rating\n",
    "# return the N best movies\n",
    "recommend = sorted(rank.items(), key=itemgetter(1), reverse=True)[:N]\n",
    "print recommend"
   ]
  },
  {
   "cell_type": "code",
   "execution_count": 26,
   "metadata": {},
   "outputs": [
    {
     "name": "stdout",
     "output_type": "stream",
     "text": [
      "recommended for 0 users\n",
      "recommended for 500 users\n",
      "recommended for 1000 users\n",
      "recommended for 1500 users\n",
      "recommended for 2000 users\n",
      "recommended for 2500 users\n",
      "recommended for 3000 users\n",
      "recommended for 3500 users\n",
      "recommended for 4000 users\n",
      "recommended for 4500 users\n",
      "recommended for 5000 users\n",
      "recommended for 5500 users\n",
      "recommended for 6000 users\n",
      "precision=0.0393\trecall=0.0237\tcoverage=0.0027\tpopularity=7.6537\n"
     ]
    }
   ],
   "source": [
    "#evaluate\n",
    "hit = 0\n",
    "rec_count = 0\n",
    "test_count = 0\n",
    "all_rec_movies = set()\n",
    "# varables for popularity\n",
    "popular_sum = 0\n",
    "\n",
    "for i, user in enumerate(train):\n",
    "    if i % 500 == 0:\n",
    "        print ('recommended for %d users' % i)\n",
    "    test_movies = test.get(user, {})\n",
    "    rec_movies = recommend\n",
    "    for movie, _ in rec_movies:\n",
    "        if movie in test_movies:\n",
    "            hit += 1\n",
    "        all_rec_movies.add(movie)\n",
    "        popular_sum += math.log(1 + movie_pop[movie])\n",
    "    rec_count += N\n",
    "    test_count += len(test_movies)\n",
    "\n",
    "precision = hit / (1.0 * rec_count)\n",
    "recall = hit / (1.0 * test_count)\n",
    "coverage = len(all_rec_movies) / (1.0 * movie_count)\n",
    "popularity = popular_sum / (1.0 * rec_count)\n",
    "\n",
    "print ('precision=%.4f\\trecall=%.4f\\tcoverage=%.4f\\tpopularity=%.4f' %\n",
    "       (precision, recall, coverage, popularity))\n"
   ]
  }
 ],
 "metadata": {
  "kernelspec": {
   "display_name": "Python 2",
   "language": "python",
   "name": "python2"
  },
  "language_info": {
   "codemirror_mode": {
    "name": "ipython",
    "version": 2
   },
   "file_extension": ".py",
   "mimetype": "text/x-python",
   "name": "python",
   "nbconvert_exporter": "python",
   "pygments_lexer": "ipython2",
   "version": "2.7.13"
  }
 },
 "nbformat": 4,
 "nbformat_minor": 2
}
