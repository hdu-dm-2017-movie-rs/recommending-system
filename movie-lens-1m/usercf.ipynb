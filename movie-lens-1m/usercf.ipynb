{
 "cells": [
  {
   "cell_type": "code",
   "execution_count": 78,
   "metadata": {},
   "outputs": [],
   "source": [
    "import numpy as np\n",
    "import pandas as pd\n",
    "import os\n",
    "import random\n",
    "import sys\n",
    "import math\n",
    "from operator import itemgetter\n",
    "\n",
    "#ml-1m数据集读取 \n",
    "#data = os.path.join( os.path.expanduser(\"E:\\WPX\\study\\AI research\\DM\\data\"),\"ml-1m\")  \n",
    "#ratings = os.path.join( data,\"ratings.dat\")\n",
    "#data_ratings = pd.read_csv(ratings, delimiter=\"::\",header=None, names=[\"UserID\",\"MovieID\",\"Rating\",\"Datetime\"])   \n",
    "#时间格式转换  \n",
    "#data_ratings[\"Datetime\"]=pd.to_datetime(data_ratings[\"Datetime\"],unit='s')  \n",
    "ratings = os.path.join('ml-1m', 'ratings.dat')\n",
    "data_ratings = open(ratings,'r')"
   ]
  },
  {
   "cell_type": "code",
   "execution_count": 79,
   "metadata": {},
   "outputs": [
    {
     "name": "stdout",
     "output_type": "stream",
     "text": [
      "train = 899718\n",
      "test = 100491\n"
     ]
    }
   ],
   "source": [
    "#load rating data and split it to training set and test set\n",
    "train = {}#训练集\n",
    "test = {}#测试集\n",
    "train_len = 0\n",
    "test_len = 0\n",
    "pivot=0.9\n",
    "for line in data_ratings:\n",
    "    user, movie, rating, _ = line.split('::')\n",
    "    # split the data by pivot\n",
    "    if random.random() < pivot:\n",
    "        train.setdefault(user, {})\n",
    "        train[user][movie] = int(rating)\n",
    "        train_len += 1\n",
    "    else:\n",
    "        test.setdefault(user, {})\n",
    "        test[user][movie] = int(rating)\n",
    "        test_len += 1\n",
    "print ('train = %s' % train_len)\n",
    "print ('test = %s' % test_len)"
   ]
  },
  {
   "cell_type": "code",
   "execution_count": 82,
   "metadata": {},
   "outputs": [
    {
     "name": "stdout",
     "output_type": "stream",
     "text": [
      "3692\n"
     ]
    }
   ],
   "source": [
    "#calculate movie_users similarity\n",
    "movie_user = {}\n",
    "movie_pop = {}\n",
    "movie_count = {}\n",
    "for user, movies in train.items():\n",
    "    for movie in movies.keys():\n",
    "        # inverse table for movie_users\n",
    "        if movie not in movie_user:\n",
    "            movie_user[movie] = set()\n",
    "        movie_user[movie].add(user)\n",
    "        # count item popularity at the same time\n",
    "        if movie not in movie_pop:\n",
    "            movie_pop[movie] = 0\n",
    "        movie_pop[movie] += 1\n",
    "movie_count = len(movie_user)\n",
    "print movie_count"
   ]
  },
  {
   "cell_type": "code",
   "execution_count": 86,
   "metadata": {
    "scrolled": true
   },
   "outputs": [],
   "source": [
    "# count co-rated movies between users\n",
    "#计算特别耗时间\n",
    "user_sim = {}#构建user间movies的相关性字典\n",
    "for movie, users in movie_user.items():\n",
    "    for u in users:\n",
    "        for v in users:\n",
    "            if u == v:\n",
    "                continue\n",
    "            user_sim.setdefault(u, {})\n",
    "            user_sim[u].setdefault(v, 0)\n",
    "            user_sim[u][v] += 1/math.log(1+len(users))"
   ]
  },
  {
   "cell_type": "code",
   "execution_count": 93,
   "metadata": {
    "scrolled": true
   },
   "outputs": [
    {
     "name": "stdout",
     "output_type": "stream",
     "text": [
      "calculating user similarity factor(2000000)\n",
      "calculating user similarity factor(4000000)\n",
      "calculating user similarity factor(6000000)\n",
      "calculating user similarity factor(8000000)\n",
      "calculating user similarity factor(10000000)\n",
      "calculating user similarity factor(12000000)\n",
      "calculating user similarity factor(14000000)\n",
      "calculating user similarity factor(16000000)\n",
      "calculating user similarity factor(18000000)\n",
      "calculating user similarity factor(20000000)\n",
      "calculating user similarity factor(22000000)\n",
      "calculating user similarity factor(24000000)\n",
      "calculating user similarity factor(26000000)\n",
      "calculating user similarity factor(28000000)\n",
      "calculating user similarity factor(30000000)\n",
      "calculating user similarity factor(32000000)\n",
      "calculating user similarity factor(34000000)\n"
     ]
    }
   ],
   "source": [
    "# calculate similarity matrix w\n",
    "sim_count = 0\n",
    "PRINT_STEP = 2000000\n",
    "for u, related_users in user_sim.items():\n",
    "    for v, count in related_users.items():\n",
    "        user_sim[u][v] = count/math.sqrt(len(train[u]) * len(train[v]))\n",
    "        sim_count += 1\n",
    "        #用于查看进度\n",
    "        if sim_count % PRINT_STEP == 0:\n",
    "            print ('calculating user similarity factor(%d)' % sim_count)"
   ]
  },
  {
   "cell_type": "code",
   "execution_count": 100,
   "metadata": {},
   "outputs": [
    {
     "name": "stdout",
     "output_type": "stream",
     "text": [
      "[('260', 0.7787905460429678), ('1214', 0.6884310151266817), ('589', 0.6468363960267578), ('32', 0.6023442678502415), ('480', 0.5938990210217743), ('1206', 0.5938706308558006), ('1200', 0.5920882180419209), ('1240', 0.5878607166359372), ('1580', 0.555366186588709), ('1653', 0.5513193015747229)]\n"
     ]
    }
   ],
   "source": [
    "#recommend\n",
    "K = 20#取相似度排前20的\n",
    "N = 10#前10的推荐\n",
    "rank = dict()\n",
    "watched_movies = train[user]\n",
    "for similar_user, similarity_factor in sorted(user_sim[user].items(),key=itemgetter(1), reverse=True)[0:K]:\n",
    "    for movie in train[similar_user]:\n",
    "        if movie in watched_movies:\n",
    "            continue\n",
    "# predict the user's interest for each movie\n",
    "        rank.setdefault(movie, 0)\n",
    "        rank[movie] += similarity_factor\n",
    "# return the N best movies\n",
    "recommend = sorted(rank.items(), key=itemgetter(1), reverse=True)[0:N]\n",
    "print recommend"
   ]
  },
  {
   "cell_type": "code",
   "execution_count": 99,
   "metadata": {},
   "outputs": [
    {
     "name": "stdout",
     "output_type": "stream",
     "text": [
      "recommended for 0 users\n",
      "recommended for 500 users\n",
      "recommended for 1000 users\n",
      "recommended for 1500 users\n",
      "recommended for 2000 users\n",
      "recommended for 2500 users\n",
      "recommended for 3000 users\n",
      "recommended for 3500 users\n",
      "recommended for 4000 users\n",
      "recommended for 4500 users\n",
      "recommended for 5000 users\n",
      "recommended for 5500 users\n",
      "recommended for 6000 users\n",
      "precision=0.0333\trecall=0.0200\tcoverage=0.0027\tpopularity=7.4769\n"
     ]
    }
   ],
   "source": [
    "#evaluate\n",
    "#准确率，召回率，覆盖率，流行度\n",
    "hit = 0\n",
    "rec_count = 0\n",
    "test_count = 0\n",
    "popular_sum = 0\n",
    "all_rec_movies = set()\n",
    "\n",
    "for i, user in enumerate(train):\n",
    "    if i % 500 == 0:\n",
    "        print ('recommended for %d users' % i)\n",
    "    test_movies = test.get(user, {})\n",
    "    rec_movies = recommend\n",
    "    for movie, _ in rec_movies:\n",
    "        if movie in test_movies:\n",
    "            hit += 1\n",
    "        all_rec_movies.add(movie)\n",
    "        popular_sum += math.log(1 + movie_pop[movie])\n",
    "    rec_count += N\n",
    "    test_count += len(test_movies)\n",
    "\n",
    "precision = hit / (1.0 * rec_count)\n",
    "recall = hit / (1.0 * test_count)\n",
    "coverage = len(all_rec_movies) / (1.0 * movie_count)\n",
    "popularity = popular_sum / (1.0 * rec_count)\n",
    "\n",
    "print ('precision=%.4f\\trecall=%.4f\\tcoverage=%.4f\\tpopularity=%.4f' % (precision, recall, coverage, popularity))"
   ]
  }
 ],
 "metadata": {
  "kernelspec": {
   "display_name": "Python 2",
   "language": "python",
   "name": "python2"
  },
  "language_info": {
   "codemirror_mode": {
    "name": "ipython",
    "version": 2
   },
   "file_extension": ".py",
   "mimetype": "text/x-python",
   "name": "python",
   "nbconvert_exporter": "python",
   "pygments_lexer": "ipython2",
   "version": "2.7.13"
  }
 },
 "nbformat": 4,
 "nbformat_minor": 2
}
